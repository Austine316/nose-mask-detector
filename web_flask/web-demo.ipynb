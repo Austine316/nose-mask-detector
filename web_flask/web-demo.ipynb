{
 "cells": [
  {
   "cell_type": "code",
   "execution_count": null,
   "id": "f71728c0",
   "metadata": {},
   "outputs": [],
   "source": [
    "# -*- coding: utf-8 -*-\n",
    "\"\"\"\n",
    "Created on Sun Mar  8 08:49:23 2020\n",
    "\n",
    "@author: Augustine Okolie\n",
    "\"\"\"\n",
    "\n",
    "#import flasks libraries\n",
    "from flask import Flask, render_template, request, jsonify, url_for, redirect, flash, Response, send_file\n",
    "from flask_socketio import SocketIO, emit\n",
    "import webbrowser\n",
    "from threading import Timer\n",
    "\n",
    "app = Flask(__name__)\n",
    "app.config['SECRET_KEY'] = 'secret!'\n",
    "socketio = SocketIO(app)\n",
    "\n",
    "\n",
    "@app.route('/')\n",
    "def index():\n",
    "    return render_template('index.html')\n",
    "\n",
    "#if __name__ == '__main__':\n",
    "#    url = 'http://127.0.0.1:5000'\n",
    "#    webbrowser.open_new(url)\n",
    "#    app.run()\n",
    "\n",
    "if __name__ == '__main__':\n",
    "    Timer(1,lambda: webbrowser.open_new(\"http://127.0.0.1:5000/\")).start()\n",
    "    socketio.run(app)"
   ]
  },
  {
   "cell_type": "code",
   "execution_count": null,
   "id": "06625eb2",
   "metadata": {},
   "outputs": [],
   "source": []
  }
 ],
 "metadata": {
  "kernelspec": {
   "display_name": "Python 3 (ipykernel)",
   "language": "python",
   "name": "python3"
  },
  "language_info": {
   "codemirror_mode": {
    "name": "ipython",
    "version": 3
   },
   "file_extension": ".py",
   "mimetype": "text/x-python",
   "name": "python",
   "nbconvert_exporter": "python",
   "pygments_lexer": "ipython3",
   "version": "3.9.7"
  }
 },
 "nbformat": 4,
 "nbformat_minor": 5
}
