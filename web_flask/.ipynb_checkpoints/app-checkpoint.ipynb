{
 "cells": [
  {
   "cell_type": "code",
   "execution_count": null,
   "id": "9d92d421",
   "metadata": {},
   "outputs": [],
   "source": [
    "from flask import Flask, render_template, request\n",
    "from keras.applications import ResNet50\n",
    "import cv2\n",
    "import numpy as np\n",
    "import pandas as pd\n",
    "\n",
    "app = Flask(__name__)\n",
    "\n",
    "resnet = ResNet50(weights='imagenet',input_shape=(224,224,3),pooling='avg')\n",
    "print(\"+\"*50, \"Model is loaded\")\n",
    "\n",
    "labels = pd.read_csv(\"labels.txt\", sep=\"\\n\").values\n",
    "\n",
    "\n",
    "@app.route('/')\n",
    "def index():\n",
    "\treturn render_template(\"index.html\", data=\"hey\")\n",
    "\n",
    "\n",
    "@app.route(\"/prediction\", methods=[\"POST\"])\n",
    "def prediction():\n",
    "\n",
    "    img = request.files['img']\n",
    "\n",
    "    img.save(\"img.jpg\")\n",
    "\n",
    "    image = cv2.imread(\"img.jpg\")\n",
    "\n",
    "    image = cv2.cvtColor(image, cv2.COLOR_BGR2RGB)\n",
    "\n",
    "    image = cv2.resize(image, (224,224))\n",
    "\n",
    "    image = np.reshape(image, (1,224,224,3))\n",
    "\n",
    "    pred = resnet.predict(image)\n",
    "\n",
    "    pred = np.argmax(pred)\n",
    "\n",
    "    pred = labels[pred]\n",
    "\n",
    "    return render_template(\"prediction.html\", data=pred)\n",
    "\n",
    "\n",
    "if __name__ == \"__main__\":\n",
    "    app.run(debug=True)\n"
   ]
  }
 ],
 "metadata": {
  "kernelspec": {
   "display_name": "Python 3 (ipykernel)",
   "language": "python",
   "name": "python3"
  },
  "language_info": {
   "codemirror_mode": {
    "name": "ipython",
    "version": 3
   },
   "file_extension": ".py",
   "mimetype": "text/x-python",
   "name": "python",
   "nbconvert_exporter": "python",
   "pygments_lexer": "ipython3",
   "version": "3.9.7"
  }
 },
 "nbformat": 4,
 "nbformat_minor": 5
}
